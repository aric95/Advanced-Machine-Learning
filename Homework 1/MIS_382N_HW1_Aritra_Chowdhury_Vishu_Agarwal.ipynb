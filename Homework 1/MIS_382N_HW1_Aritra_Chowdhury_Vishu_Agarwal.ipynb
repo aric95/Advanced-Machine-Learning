{
  "nbformat": 4,
  "nbformat_minor": 0,
  "metadata": {
    "colab": {
      "name": "MIS_382N_HW1_Aritra_Chowdhury_Vishu_Agarwal.ipynb",
      "provenance": [],
      "collapsed_sections": []
    },
    "kernelspec": {
      "display_name": "Python 3",
      "name": "python3"
    },
    "language_info": {
      "name": "python"
    }
  },
  "cells": [
    {
      "cell_type": "markdown",
      "metadata": {
        "id": "evHVxwk2JA-3"
      },
      "source": [
        "# <p style=\"text-align: center;\">**MIS 382N: Advanced Machine Learning**</p>\n",
        "# <p style=\"text-align: center;\">**Aritra Chowdhury (ac79277), Vishu Agarwal (va7729)**</p>\n",
        "# <p style=\"text-align: center;\">**Homework 1**</p>\n",
        "## <p style=\"text-align: center;\">Total points: 55</p>\n",
        "## <p style=\"text-align: center;\">Due: Wednesday, Sep 10 submitted via Canvas by 11:59 pm</p>\n",
        "\n",
        "Your homework should be written in a **Jupyter notebook**. Please make sure your code runs and the graphics (and anything else) are displayed in your notebook before submitting. (%matplotlib inline)\n",
        "\n",
        "**Note: Notebooks MUST have the images embedded in them. There will be no regrades if attached images do not render in the notebook. Please re download from canvas after submission and make sure all attached images render without errors. (Hint: Image module from IPython.display)**"
      ]
    },
    {
      "cell_type": "markdown",
      "metadata": {
        "id": "TWWU_gOSLEEv"
      },
      "source": [
        "# Question 1: MLOps (10 pts)\n",
        "Read this [article](https://towardsdatascience.com/what-is-mlops-everything-you-must-know-to-get-started-523f2d0b8bd8) \"What is MLOps — Everything You Must Know to Get Started\", which gives a quick walkthrough of the machine learning development lifecycle and explains how MLOps come into play, or watch this [video](https://www.youtube.com/watch?v=06-AZXmwHjo) which you may find interesting.\n",
        "\n",
        "1. (**4 pts**) Use your own words to describe what MLOps is, and what challenges MLOps address. Limit your answer to one paragraph.\n",
        "\n",
        "2. (**6 pts**) Describe what the main phases in MLOps are. Your answer should be 2-3 paragraphs.\n",
        "\n",
        "\n",
        "## Answer:"
      ]
    },
    {
      "cell_type": "markdown",
      "metadata": {
        "id": "ZLU4Na5BNkKH"
      },
      "source": [
        "1. MLOps (Machine Learning Operations) is the process of creating a coherent, reliable, and efficient system for developing, deploying and mantaining Machine Learning models in Production reliably and efficiently. MLOps primarily addresses the challenge of a technical landscape where models and system architectures are constantly evolving wherein it allows for dynamic and scalable solutions. Moreover, MLOps promotes proper communication between business and technical teams, while maintaining performance standards.\n",
        "\n",
        "2. MLOps is comprised of three main broad phases - Business Understanding and Design, Experimentation and Development, Operations. All the three phases are interconnected and influence each other.\n",
        "\n",
        "  The first phase is devoted to business understanding, data understanding and finally designing the Machine Learning problem. The business problem is first understood, discussed and finally transformed into an ML problem. The data is also understood at all levels to verify for any required extractions or transformations. Common data understanding involves questions on data credibility, accessibility, sources, possible pipelines to be built, etc. \n",
        "\n",
        "  The next phase focuses on experimentation and development of the ML model. The primary goal in this phase is to develop a reliable and scalable ML model that runs in production. This phase involves data engineering (data preparation and processing to produce clean and scalable data), feature engineering, and model engineering (model training and experimentation using several quantitative measures like accuracy, precision and recall). The models finally decided on need to be reproducible, which is done using version control in the next phase. \n",
        "\n",
        "  The final Operations phase focuses on deploying the developed ML model in production by using established DevOps practices such as testing, versioning, continuous delivery, and monitoring. Deployment can be either static or dynamic, depending on the use case of the problem. Monitoring is crucial to maintain the performance of the model and the business quality of the model predictions. \n",
        "\n"
      ]
    },
    {
      "cell_type": "markdown",
      "metadata": {
        "id": "wusA9L1LmUMH"
      },
      "source": [
        "# Question 2: Applications of Machine Learning (5 pts)\n",
        "Read this [article](https://builtin.com/data-science/data-science-applications-examples) \"17 Data Science Applications & Examples\" and pick one of the data science systems used by various organizations according to this blog. \n",
        "\n",
        "For this system you have chosen, answer the following questions. Please limit your answer to one paragraph:\n",
        "\n",
        "1. What kind of machine learning problem is involved (e.g. classification, regression, clustering, outlier detection,...) in this system?\n",
        "2. Speculate on what kind of data may be needed and how the results can be useful to the organization.\n",
        "3. What do you think are the ethical implications of using machine learning in a domain like this?\n",
        "\n",
        "## Answer: "
      ]
    },
    {
      "cell_type": "markdown",
      "metadata": {
        "id": "4Gm9ltJOoFmL"
      },
      "source": [
        "Data science system chosen : Predicting Periods by Clue (Berlin, Germany)\n",
        "\n",
        "1. I believe, machine learning problem involved here is a mix of clustering and regression. Regression could have been employed to forecast users’ menstrual cycles and supervised clustering to identify if the user is fertile, on the cusp of a period or at an elevated risk for conditions like an ectopic pregnancy based on different features such as cycle start dates, moods, stool type, hair condition, etc. \n",
        "\n",
        "\n",
        "2. We would require all sorts of personal data from users such as their cycle start date, cycle duration, volume of blood flow, moods, stool type, hair condition, health conditions and symptoms (if any). \n",
        "Accurate results will help the organization capture more users, since these results will help users keep track of their menstrual cycles, get to know their own body and observe any symptoms — such as mood swings or headaches — that may occur during a particular phase of your cycle. The results might also help to identify any changes to user's menstrual cycle that may be an indicator of potential health issues. \n",
        "\n",
        "\n",
        "3. The data used here (and healthcare domain in general) is extremely intimate since it contains the entire medical history of a patient and can be misused. Hence, strict regulations such as HIPAA Privacy Rules are in place to protect individuals' medical records and other personal health information. In our example as well, user's details are anonymized to protect their identity. "
      ]
    },
    {
      "cell_type": "markdown",
      "metadata": {
        "id": "2w8za9lLmVO7"
      },
      "source": [
        "# Question 3: Simpson's Paradox (10 pts)\n",
        "A data scientist should be careful about drawing unwarranted conclusions about any data that is presented. One of the 'gotchas' that can happen even in apparently very simple tabular summaries, is called Simpson's paradox.\n",
        "\n",
        "Read this [article](https://www.covid-datascience.com/post/israeli-data-how-can-efficacy-vs-severe-disease-be-strong-when-60-of-hospitalized-are-vaccinated), which explains why the computed efficacy of the Pfizer vaccine is misleadingly low (67.5%) when you lump all people together, but once you stratify people by age (which is the right thing to do), you get much higher efficacy numbers.\n",
        "\n",
        "1.(**5 pts**) Explain in your own words what Simpson's paradox is, and how this 'paradox' can happen in real data.\n",
        "\n",
        "2.(**5 pts**) Find and mention another example of Simpson's paradox (but not any of the 3 examples given in the Wikipedia entry for 'Simpson's paradox'), state why the paradox appeared in your chosen example. Also give a reference (URL) to your source for the chosen example.\n",
        "\n",
        "## Answer:\n",
        "\n",
        "1. Simpson's Paradox is a phenomenon where the trend in a data set changes (enhances, decreases, or reverses) when we stratify the data by a confounding variable. The occurrence of this 'paradox'  in real data can be explained using a famous example of UC Berkeley's gender bias. Admit count for the fall of 1973 showed that men are more likely than women to be admitted. However, if we examine the individual departments, 6 out of 85 departments were significantly biased against men, while 4 were significantly biased against women. In this example, the department was the confounding variable since research paper by Bicket et al. concluded that women tended to apply for more competitive departments. In contrast, men tended to apply for departments with higher rates of admission. Hence, splitting the admission data by the confounding variable (departments in this case) lead to reversals in the male-female bias trends.\n",
        "\n",
        "\n",
        "2. An example of Simpson's Paradox is that the overall median US wage increased by 1% (adjusted for inflation) from 2000 to 2013. However, if we stratify the data by educational profile, the median wage for:\n",
        "  \n",
        "  * high school dropouts\n",
        "  * high school graduates with no college education\n",
        "  * people with some college education\n",
        "  * people with Bachelor's or higher degrees\n",
        "\n",
        "  have all decreased. This is because the educational profile of people is a confounding factor and is not used to stratify the data before checking the change in median wage. The number of people with college degrees, with higher overall wages, has increased tremendously over the aforementioned period, thus increasing the overall median wage. At the same time, the median wage for college graduates has reduced at a smaller percentage (1.2%) compared to high school dropouts (7.9%). This has resulted in a skewed view of the overall median wage increasing, but in reality, the wage has decreased for all educational subgroups. \n",
        "\n",
        "  [Source URL](https://blog.revolutionanalytics.com/2013/07/a-great-example-of-simpsons-paradox.html)\n",
        "\n",
        "\n"
      ]
    },
    {
      "cell_type": "markdown",
      "metadata": {
        "id": "gth0D8jiMBSe"
      },
      "source": [
        "# Question 4: Ridge and Lasso Regression (30 pts)\n",
        "\n",
        "Download the dataset **Admission.csv** from Canvas and use the following codes to import the Admission dataset in Python. \n",
        "\n",
        "There are 7 features in the dataset:\n",
        "\n",
        "1. GRE score\n",
        "2. TOEFL score\n",
        "3. University Rating\n",
        "4. SOP(Statement of Purpose)\n",
        "5. LOR(Letter of Recommendation)\n",
        "6. CGPA\n",
        "7. Research\n",
        "\n",
        "And the target is **Chance of Admission**."
      ]
    },
    {
      "cell_type": "code",
      "metadata": {
        "colab": {
          "resources": {
            "http://localhost:8080/nbextensions/google.colab/files.js": {
              "data": "Ly8gQ29weXJpZ2h0IDIwMTcgR29vZ2xlIExMQwovLwovLyBMaWNlbnNlZCB1bmRlciB0aGUgQXBhY2hlIExpY2Vuc2UsIFZlcnNpb24gMi4wICh0aGUgIkxpY2Vuc2UiKTsKLy8geW91IG1heSBub3QgdXNlIHRoaXMgZmlsZSBleGNlcHQgaW4gY29tcGxpYW5jZSB3aXRoIHRoZSBMaWNlbnNlLgovLyBZb3UgbWF5IG9idGFpbiBhIGNvcHkgb2YgdGhlIExpY2Vuc2UgYXQKLy8KLy8gICAgICBodHRwOi8vd3d3LmFwYWNoZS5vcmcvbGljZW5zZXMvTElDRU5TRS0yLjAKLy8KLy8gVW5sZXNzIHJlcXVpcmVkIGJ5IGFwcGxpY2FibGUgbGF3IG9yIGFncmVlZCB0byBpbiB3cml0aW5nLCBzb2Z0d2FyZQovLyBkaXN0cmlidXRlZCB1bmRlciB0aGUgTGljZW5zZSBpcyBkaXN0cmlidXRlZCBvbiBhbiAiQVMgSVMiIEJBU0lTLAovLyBXSVRIT1VUIFdBUlJBTlRJRVMgT1IgQ09ORElUSU9OUyBPRiBBTlkgS0lORCwgZWl0aGVyIGV4cHJlc3Mgb3IgaW1wbGllZC4KLy8gU2VlIHRoZSBMaWNlbnNlIGZvciB0aGUgc3BlY2lmaWMgbGFuZ3VhZ2UgZ292ZXJuaW5nIHBlcm1pc3Npb25zIGFuZAovLyBsaW1pdGF0aW9ucyB1bmRlciB0aGUgTGljZW5zZS4KCi8qKgogKiBAZmlsZW92ZXJ2aWV3IEhlbHBlcnMgZm9yIGdvb2dsZS5jb2xhYiBQeXRob24gbW9kdWxlLgogKi8KKGZ1bmN0aW9uKHNjb3BlKSB7CmZ1bmN0aW9uIHNwYW4odGV4dCwgc3R5bGVBdHRyaWJ1dGVzID0ge30pIHsKICBjb25zdCBlbGVtZW50ID0gZG9jdW1lbnQuY3JlYXRlRWxlbWVudCgnc3BhbicpOwogIGVsZW1lbnQudGV4dENvbnRlbnQgPSB0ZXh0OwogIGZvciAoY29uc3Qga2V5IG9mIE9iamVjdC5rZXlzKHN0eWxlQXR0cmlidXRlcykpIHsKICAgIGVsZW1lbnQuc3R5bGVba2V5XSA9IHN0eWxlQXR0cmlidXRlc1trZXldOwogIH0KICByZXR1cm4gZWxlbWVudDsKfQoKLy8gTWF4IG51bWJlciBvZiBieXRlcyB3aGljaCB3aWxsIGJlIHVwbG9hZGVkIGF0IGEgdGltZS4KY29uc3QgTUFYX1BBWUxPQURfU0laRSA9IDEwMCAqIDEwMjQ7CgpmdW5jdGlvbiBfdXBsb2FkRmlsZXMoaW5wdXRJZCwgb3V0cHV0SWQpIHsKICBjb25zdCBzdGVwcyA9IHVwbG9hZEZpbGVzU3RlcChpbnB1dElkLCBvdXRwdXRJZCk7CiAgY29uc3Qgb3V0cHV0RWxlbWVudCA9IGRvY3VtZW50LmdldEVsZW1lbnRCeUlkKG91dHB1dElkKTsKICAvLyBDYWNoZSBzdGVwcyBvbiB0aGUgb3V0cHV0RWxlbWVudCB0byBtYWtlIGl0IGF2YWlsYWJsZSBmb3IgdGhlIG5leHQgY2FsbAogIC8vIHRvIHVwbG9hZEZpbGVzQ29udGludWUgZnJvbSBQeXRob24uCiAgb3V0cHV0RWxlbWVudC5zdGVwcyA9IHN0ZXBzOwoKICByZXR1cm4gX3VwbG9hZEZpbGVzQ29udGludWUob3V0cHV0SWQpOwp9CgovLyBUaGlzIGlzIHJvdWdobHkgYW4gYXN5bmMgZ2VuZXJhdG9yIChub3Qgc3VwcG9ydGVkIGluIHRoZSBicm93c2VyIHlldCksCi8vIHdoZXJlIHRoZXJlIGFyZSBtdWx0aXBsZSBhc3luY2hyb25vdXMgc3RlcHMgYW5kIHRoZSBQeXRob24gc2lkZSBpcyBnb2luZwovLyB0byBwb2xsIGZvciBjb21wbGV0aW9uIG9mIGVhY2ggc3RlcC4KLy8gVGhpcyB1c2VzIGEgUHJvbWlzZSB0byBibG9jayB0aGUgcHl0aG9uIHNpZGUgb24gY29tcGxldGlvbiBvZiBlYWNoIHN0ZXAsCi8vIHRoZW4gcGFzc2VzIHRoZSByZXN1bHQgb2YgdGhlIHByZXZpb3VzIHN0ZXAgYXMgdGhlIGlucHV0IHRvIHRoZSBuZXh0IHN0ZXAuCmZ1bmN0aW9uIF91cGxvYWRGaWxlc0NvbnRpbnVlKG91dHB1dElkKSB7CiAgY29uc3Qgb3V0cHV0RWxlbWVudCA9IGRvY3VtZW50LmdldEVsZW1lbnRCeUlkKG91dHB1dElkKTsKICBjb25zdCBzdGVwcyA9IG91dHB1dEVsZW1lbnQuc3RlcHM7CgogIGNvbnN0IG5leHQgPSBzdGVwcy5uZXh0KG91dHB1dEVsZW1lbnQubGFzdFByb21pc2VWYWx1ZSk7CiAgcmV0dXJuIFByb21pc2UucmVzb2x2ZShuZXh0LnZhbHVlLnByb21pc2UpLnRoZW4oKHZhbHVlKSA9PiB7CiAgICAvLyBDYWNoZSB0aGUgbGFzdCBwcm9taXNlIHZhbHVlIHRvIG1ha2UgaXQgYXZhaWxhYmxlIHRvIHRoZSBuZXh0CiAgICAvLyBzdGVwIG9mIHRoZSBnZW5lcmF0b3IuCiAgICBvdXRwdXRFbGVtZW50Lmxhc3RQcm9taXNlVmFsdWUgPSB2YWx1ZTsKICAgIHJldHVybiBuZXh0LnZhbHVlLnJlc3BvbnNlOwogIH0pOwp9CgovKioKICogR2VuZXJhdG9yIGZ1bmN0aW9uIHdoaWNoIGlzIGNhbGxlZCBiZXR3ZWVuIGVhY2ggYXN5bmMgc3RlcCBvZiB0aGUgdXBsb2FkCiAqIHByb2Nlc3MuCiAqIEBwYXJhbSB7c3RyaW5nfSBpbnB1dElkIEVsZW1lbnQgSUQgb2YgdGhlIGlucHV0IGZpbGUgcGlja2VyIGVsZW1lbnQuCiAqIEBwYXJhbSB7c3RyaW5nfSBvdXRwdXRJZCBFbGVtZW50IElEIG9mIHRoZSBvdXRwdXQgZGlzcGxheS4KICogQHJldHVybiB7IUl0ZXJhYmxlPCFPYmplY3Q+fSBJdGVyYWJsZSBvZiBuZXh0IHN0ZXBzLgogKi8KZnVuY3Rpb24qIHVwbG9hZEZpbGVzU3RlcChpbnB1dElkLCBvdXRwdXRJZCkgewogIGNvbnN0IGlucHV0RWxlbWVudCA9IGRvY3VtZW50LmdldEVsZW1lbnRCeUlkKGlucHV0SWQpOwogIGlucHV0RWxlbWVudC5kaXNhYmxlZCA9IGZhbHNlOwoKICBjb25zdCBvdXRwdXRFbGVtZW50ID0gZG9jdW1lbnQuZ2V0RWxlbWVudEJ5SWQob3V0cHV0SWQpOwogIG91dHB1dEVsZW1lbnQuaW5uZXJIVE1MID0gJyc7CgogIGNvbnN0IHBpY2tlZFByb21pc2UgPSBuZXcgUHJvbWlzZSgocmVzb2x2ZSkgPT4gewogICAgaW5wdXRFbGVtZW50LmFkZEV2ZW50TGlzdGVuZXIoJ2NoYW5nZScsIChlKSA9PiB7CiAgICAgIHJlc29sdmUoZS50YXJnZXQuZmlsZXMpOwogICAgfSk7CiAgfSk7CgogIGNvbnN0IGNhbmNlbCA9IGRvY3VtZW50LmNyZWF0ZUVsZW1lbnQoJ2J1dHRvbicpOwogIGlucHV0RWxlbWVudC5wYXJlbnRFbGVtZW50LmFwcGVuZENoaWxkKGNhbmNlbCk7CiAgY2FuY2VsLnRleHRDb250ZW50ID0gJ0NhbmNlbCB1cGxvYWQnOwogIGNvbnN0IGNhbmNlbFByb21pc2UgPSBuZXcgUHJvbWlzZSgocmVzb2x2ZSkgPT4gewogICAgY2FuY2VsLm9uY2xpY2sgPSAoKSA9PiB7CiAgICAgIHJlc29sdmUobnVsbCk7CiAgICB9OwogIH0pOwoKICAvLyBXYWl0IGZvciB0aGUgdXNlciB0byBwaWNrIHRoZSBmaWxlcy4KICBjb25zdCBmaWxlcyA9IHlpZWxkIHsKICAgIHByb21pc2U6IFByb21pc2UucmFjZShbcGlja2VkUHJvbWlzZSwgY2FuY2VsUHJvbWlzZV0pLAogICAgcmVzcG9uc2U6IHsKICAgICAgYWN0aW9uOiAnc3RhcnRpbmcnLAogICAgfQogIH07CgogIGNhbmNlbC5yZW1vdmUoKTsKCiAgLy8gRGlzYWJsZSB0aGUgaW5wdXQgZWxlbWVudCBzaW5jZSBmdXJ0aGVyIHBpY2tzIGFyZSBub3QgYWxsb3dlZC4KICBpbnB1dEVsZW1lbnQuZGlzYWJsZWQgPSB0cnVlOwoKICBpZiAoIWZpbGVzKSB7CiAgICByZXR1cm4gewogICAgICByZXNwb25zZTogewogICAgICAgIGFjdGlvbjogJ2NvbXBsZXRlJywKICAgICAgfQogICAgfTsKICB9CgogIGZvciAoY29uc3QgZmlsZSBvZiBmaWxlcykgewogICAgY29uc3QgbGkgPSBkb2N1bWVudC5jcmVhdGVFbGVtZW50KCdsaScpOwogICAgbGkuYXBwZW5kKHNwYW4oZmlsZS5uYW1lLCB7Zm9udFdlaWdodDogJ2JvbGQnfSkpOwogICAgbGkuYXBwZW5kKHNwYW4oCiAgICAgICAgYCgke2ZpbGUudHlwZSB8fCAnbi9hJ30pIC0gJHtmaWxlLnNpemV9IGJ5dGVzLCBgICsKICAgICAgICBgbGFzdCBtb2RpZmllZDogJHsKICAgICAgICAgICAgZmlsZS5sYXN0TW9kaWZpZWREYXRlID8gZmlsZS5sYXN0TW9kaWZpZWREYXRlLnRvTG9jYWxlRGF0ZVN0cmluZygpIDoKICAgICAgICAgICAgICAgICAgICAgICAgICAgICAgICAgICAgJ24vYSd9IC0gYCkpOwogICAgY29uc3QgcGVyY2VudCA9IHNwYW4oJzAlIGRvbmUnKTsKICAgIGxpLmFwcGVuZENoaWxkKHBlcmNlbnQpOwoKICAgIG91dHB1dEVsZW1lbnQuYXBwZW5kQ2hpbGQobGkpOwoKICAgIGNvbnN0IGZpbGVEYXRhUHJvbWlzZSA9IG5ldyBQcm9taXNlKChyZXNvbHZlKSA9PiB7CiAgICAgIGNvbnN0IHJlYWRlciA9IG5ldyBGaWxlUmVhZGVyKCk7CiAgICAgIHJlYWRlci5vbmxvYWQgPSAoZSkgPT4gewogICAgICAgIHJlc29sdmUoZS50YXJnZXQucmVzdWx0KTsKICAgICAgfTsKICAgICAgcmVhZGVyLnJlYWRBc0FycmF5QnVmZmVyKGZpbGUpOwogICAgfSk7CiAgICAvLyBXYWl0IGZvciB0aGUgZGF0YSB0byBiZSByZWFkeS4KICAgIGxldCBmaWxlRGF0YSA9IHlpZWxkIHsKICAgICAgcHJvbWlzZTogZmlsZURhdGFQcm9taXNlLAogICAgICByZXNwb25zZTogewogICAgICAgIGFjdGlvbjogJ2NvbnRpbnVlJywKICAgICAgfQogICAgfTsKCiAgICAvLyBVc2UgYSBjaHVua2VkIHNlbmRpbmcgdG8gYXZvaWQgbWVzc2FnZSBzaXplIGxpbWl0cy4gU2VlIGIvNjIxMTU2NjAuCiAgICBsZXQgcG9zaXRpb24gPSAwOwogICAgZG8gewogICAgICBjb25zdCBsZW5ndGggPSBNYXRoLm1pbihmaWxlRGF0YS5ieXRlTGVuZ3RoIC0gcG9zaXRpb24sIE1BWF9QQVlMT0FEX1NJWkUpOwogICAgICBjb25zdCBjaHVuayA9IG5ldyBVaW50OEFycmF5KGZpbGVEYXRhLCBwb3NpdGlvbiwgbGVuZ3RoKTsKICAgICAgcG9zaXRpb24gKz0gbGVuZ3RoOwoKICAgICAgY29uc3QgYmFzZTY0ID0gYnRvYShTdHJpbmcuZnJvbUNoYXJDb2RlLmFwcGx5KG51bGwsIGNodW5rKSk7CiAgICAgIHlpZWxkIHsKICAgICAgICByZXNwb25zZTogewogICAgICAgICAgYWN0aW9uOiAnYXBwZW5kJywKICAgICAgICAgIGZpbGU6IGZpbGUubmFtZSwKICAgICAgICAgIGRhdGE6IGJhc2U2NCwKICAgICAgICB9LAogICAgICB9OwoKICAgICAgbGV0IHBlcmNlbnREb25lID0gZmlsZURhdGEuYnl0ZUxlbmd0aCA9PT0gMCA/CiAgICAgICAgICAxMDAgOgogICAgICAgICAgTWF0aC5yb3VuZCgocG9zaXRpb24gLyBmaWxlRGF0YS5ieXRlTGVuZ3RoKSAqIDEwMCk7CiAgICAgIHBlcmNlbnQudGV4dENvbnRlbnQgPSBgJHtwZXJjZW50RG9uZX0lIGRvbmVgOwoKICAgIH0gd2hpbGUgKHBvc2l0aW9uIDwgZmlsZURhdGEuYnl0ZUxlbmd0aCk7CiAgfQoKICAvLyBBbGwgZG9uZS4KICB5aWVsZCB7CiAgICByZXNwb25zZTogewogICAgICBhY3Rpb246ICdjb21wbGV0ZScsCiAgICB9CiAgfTsKfQoKc2NvcGUuZ29vZ2xlID0gc2NvcGUuZ29vZ2xlIHx8IHt9OwpzY29wZS5nb29nbGUuY29sYWIgPSBzY29wZS5nb29nbGUuY29sYWIgfHwge307CnNjb3BlLmdvb2dsZS5jb2xhYi5fZmlsZXMgPSB7CiAgX3VwbG9hZEZpbGVzLAogIF91cGxvYWRGaWxlc0NvbnRpbnVlLAp9Owp9KShzZWxmKTsK",
              "ok": true,
              "headers": [
                [
                  "content-type",
                  "application/javascript"
                ]
              ],
              "status": 200,
              "status_text": ""
            }
          },
          "base_uri": "https://localhost:8080/",
          "height": 73
        },
        "id": "QFazlpLgGpAa",
        "outputId": "fd6060a1-33ea-4f1a-cd5b-791af4524386"
      },
      "source": [
        "# Only use this code block if you are using Google Colab.\n",
        "# If you are using Jupyter Notebook, please ignore this code block. You can directly upload the file to your Jupyter Notebook file systems.\n",
        "from google.colab import files\n",
        "\n",
        "## It will prompt you to select a local file. Click on “Choose Files” then select and upload the file. \n",
        "## Wait for the file to be 100% uploaded. You should see the name of the file once Colab has uploaded it.\n",
        "uploaded = files.upload()"
      ],
      "execution_count": null,
      "outputs": [
        {
          "output_type": "display_data",
          "data": {
            "text/html": [
              "\n",
              "     <input type=\"file\" id=\"files-1eb3d099-cafa-4a1c-a95e-ea3813839c28\" name=\"files[]\" multiple disabled\n",
              "        style=\"border:none\" />\n",
              "     <output id=\"result-1eb3d099-cafa-4a1c-a95e-ea3813839c28\">\n",
              "      Upload widget is only available when the cell has been executed in the\n",
              "      current browser session. Please rerun this cell to enable.\n",
              "      </output>\n",
              "      <script src=\"/nbextensions/google.colab/files.js\"></script> "
            ],
            "text/plain": [
              "<IPython.core.display.HTML object>"
            ]
          },
          "metadata": {}
        },
        {
          "output_type": "stream",
          "name": "stdout",
          "text": [
            "Saving Admission.csv to Admission.csv\n"
          ]
        }
      ]
    },
    {
      "cell_type": "code",
      "metadata": {
        "id": "xsPaOOehGuU6"
      },
      "source": [
        "# Codes below will work for both Google Colab and Jupyter Notebook.\n",
        "import numpy as np\n",
        "import pandas as pd\n",
        "import random\n",
        "from sklearn import linear_model\n",
        "from sklearn.metrics import mean_absolute_error, mean_squared_error\n",
        "from sklearn.linear_model import LogisticRegression\n",
        "\n",
        "## Load the dataset into pandas DataFrame\n",
        "df = pd.read_csv('Admission.csv', index_col=0)\n",
        "df = df.replace([np.inf, -np.inf], np.nan) # \n",
        "df = df.fillna(0) # Replace all the NaN values with 0"
      ],
      "execution_count": null,
      "outputs": []
    },
    {
      "cell_type": "code",
      "metadata": {
        "colab": {
          "base_uri": "https://localhost:8080/"
        },
        "id": "PmMz72U6Gv-z",
        "outputId": "5c6cb423-5656-486b-fd70-18c4c09c6c77"
      },
      "source": [
        "df.columns # Show you all the columns in this file"
      ],
      "execution_count": null,
      "outputs": [
        {
          "output_type": "execute_result",
          "data": {
            "text/plain": [
              "Index(['GRE_Score', 'TOEFL_Score', 'University_Rating', 'SOP', 'LOR ', 'CGPA',\n",
              "       'Research', 'Chance_of_Admit'],\n",
              "      dtype='object')"
            ]
          },
          "metadata": {},
          "execution_count": 3
        }
      ]
    },
    {
      "cell_type": "code",
      "metadata": {
        "colab": {
          "base_uri": "https://localhost:8080/",
          "height": 234
        },
        "id": "CyZN-yFfGxlt",
        "outputId": "6e1f668f-26f7-4560-d0a2-8364130ad1d2"
      },
      "source": [
        "df.head() # Show you the first 5 rows in this file"
      ],
      "execution_count": null,
      "outputs": [
        {
          "output_type": "execute_result",
          "data": {
            "text/html": [
              "<div>\n",
              "<style scoped>\n",
              "    .dataframe tbody tr th:only-of-type {\n",
              "        vertical-align: middle;\n",
              "    }\n",
              "\n",
              "    .dataframe tbody tr th {\n",
              "        vertical-align: top;\n",
              "    }\n",
              "\n",
              "    .dataframe thead th {\n",
              "        text-align: right;\n",
              "    }\n",
              "</style>\n",
              "<table border=\"1\" class=\"dataframe\">\n",
              "  <thead>\n",
              "    <tr style=\"text-align: right;\">\n",
              "      <th></th>\n",
              "      <th>GRE_Score</th>\n",
              "      <th>TOEFL_Score</th>\n",
              "      <th>University_Rating</th>\n",
              "      <th>SOP</th>\n",
              "      <th>LOR</th>\n",
              "      <th>CGPA</th>\n",
              "      <th>Research</th>\n",
              "      <th>Chance_of_Admit</th>\n",
              "    </tr>\n",
              "    <tr>\n",
              "      <th>Serial No.</th>\n",
              "      <th></th>\n",
              "      <th></th>\n",
              "      <th></th>\n",
              "      <th></th>\n",
              "      <th></th>\n",
              "      <th></th>\n",
              "      <th></th>\n",
              "      <th></th>\n",
              "    </tr>\n",
              "  </thead>\n",
              "  <tbody>\n",
              "    <tr>\n",
              "      <th>1</th>\n",
              "      <td>337</td>\n",
              "      <td>118</td>\n",
              "      <td>4</td>\n",
              "      <td>4.5</td>\n",
              "      <td>4.5</td>\n",
              "      <td>9.65</td>\n",
              "      <td>1</td>\n",
              "      <td>0.92</td>\n",
              "    </tr>\n",
              "    <tr>\n",
              "      <th>2</th>\n",
              "      <td>324</td>\n",
              "      <td>107</td>\n",
              "      <td>4</td>\n",
              "      <td>4.0</td>\n",
              "      <td>4.5</td>\n",
              "      <td>8.87</td>\n",
              "      <td>1</td>\n",
              "      <td>0.76</td>\n",
              "    </tr>\n",
              "    <tr>\n",
              "      <th>3</th>\n",
              "      <td>316</td>\n",
              "      <td>104</td>\n",
              "      <td>3</td>\n",
              "      <td>3.0</td>\n",
              "      <td>3.5</td>\n",
              "      <td>8.00</td>\n",
              "      <td>1</td>\n",
              "      <td>0.72</td>\n",
              "    </tr>\n",
              "    <tr>\n",
              "      <th>4</th>\n",
              "      <td>322</td>\n",
              "      <td>110</td>\n",
              "      <td>3</td>\n",
              "      <td>3.5</td>\n",
              "      <td>2.5</td>\n",
              "      <td>8.67</td>\n",
              "      <td>1</td>\n",
              "      <td>0.80</td>\n",
              "    </tr>\n",
              "    <tr>\n",
              "      <th>5</th>\n",
              "      <td>314</td>\n",
              "      <td>103</td>\n",
              "      <td>2</td>\n",
              "      <td>2.0</td>\n",
              "      <td>3.0</td>\n",
              "      <td>8.21</td>\n",
              "      <td>0</td>\n",
              "      <td>0.65</td>\n",
              "    </tr>\n",
              "  </tbody>\n",
              "</table>\n",
              "</div>"
            ],
            "text/plain": [
              "            GRE_Score  TOEFL_Score  ...  Research  Chance_of_Admit\n",
              "Serial No.                          ...                           \n",
              "1                 337          118  ...         1             0.92\n",
              "2                 324          107  ...         1             0.76\n",
              "3                 316          104  ...         1             0.72\n",
              "4                 322          110  ...         1             0.80\n",
              "5                 314          103  ...         0             0.65\n",
              "\n",
              "[5 rows x 8 columns]"
            ]
          },
          "metadata": {},
          "execution_count": 4
        }
      ]
    },
    {
      "cell_type": "code",
      "metadata": {
        "id": "S3TfR0i4G2rO"
      },
      "source": [
        "y = df['Chance_of_Admit'] # The column named Chance_of_Admit is used as the target, and we store it in y\n",
        "X = df.drop(['Chance_of_Admit'], axis=1) # We keep the remaining columns as the features, and store them in x"
      ],
      "execution_count": null,
      "outputs": []
    },
    {
      "cell_type": "markdown",
      "metadata": {
        "id": "pKq1KERxJw9y"
      },
      "source": [
        "### 1) (**2 pts**) \n",
        "\n",
        "Split the data into a training set(75% of data) and a test set(25% of data), using the [train_test_split](https://scikit-learn.org/stable/modules/generated/sklearn.model_selection.train_test_split.html) function with random_state = 50. Then scale the data (not including target) so that each of the independent variables would have zero mean and unit variance. You can use the [sklearn.preprocessing.scale](https://scikit-learn.org/stable/modules/generated/sklearn.preprocessing.scale.html) function for this. Print the first 5 rows of the training set after scaling.\n",
        "*italicized text*\n",
        "### Answer:\n"
      ]
    },
    {
      "cell_type": "code",
      "metadata": {
        "id": "XrWJN6Cr3feY"
      },
      "source": [
        "#Importing train_test_split from sklearn\n",
        "from sklearn.model_selection import train_test_split\n",
        "from sklearn import preprocessing"
      ],
      "execution_count": null,
      "outputs": []
    },
    {
      "cell_type": "code",
      "metadata": {
        "id": "z-FSyFs0yhLZ"
      },
      "source": [
        "#Splitting the data\n",
        "X_train, X_test, y_train, y_test = train_test_split(X, y, test_size = 0.25, random_state = 50)\n",
        "\n",
        "#Scaling the data\n",
        "X_train_scaled = preprocessing.scale(X_train, with_mean = True, with_std = True)\n",
        "X_test_scaled = preprocessing.scale(X_test, with_mean = True, with_std = True)"
      ],
      "execution_count": null,
      "outputs": []
    },
    {
      "cell_type": "code",
      "metadata": {
        "colab": {
          "base_uri": "https://localhost:8080/"
        },
        "id": "dLVr6mKw3qlx",
        "outputId": "4721c9c4-7666-4a75-dea2-8a781b42ec54"
      },
      "source": [
        "#Printing first 5 rows of scaled training data\n",
        "X_train_scaled[:5]"
      ],
      "execution_count": null,
      "outputs": [
        {
          "output_type": "execute_result",
          "data": {
            "text/plain": [
              "array([[ 1.52725374,  2.0917706 ,  1.61594354,  0.63150829,  1.72829095,\n",
              "         2.11370277,  0.90453403],\n",
              "       [ 0.74180896,  0.46308859, -0.9310778 , -0.35266047, -1.04140609,\n",
              "         0.29488827,  0.90453403],\n",
              "       [ 0.56726568,  0.13735218,  1.61594354,  0.63150829,  0.62041214,\n",
              "         0.26211684,  0.90453403],\n",
              "       [-0.39272239, -0.51412062, -0.08207069,  0.13942391,  0.62041214,\n",
              "        -0.80295471, -1.1055416 ],\n",
              "       [ 0.47999403,  0.78882499,  0.76693642,  1.12359267,  1.17435154,\n",
              "         1.11417408,  0.90453403]])"
            ]
          },
          "metadata": {},
          "execution_count": 8
        }
      ]
    },
    {
      "cell_type": "markdown",
      "metadata": {
        "id": "phdt3e01lOoU"
      },
      "source": [
        "### 2) (**5 pts**) \n",
        "Use [sklearn.linear_model.Lasso](https://scikit-learn.org/stable/modules/generated/sklearn.linear_model.Lasso.html) and [sklearn.linear_model.Ridge](https://scikit-learn.org/stable/modules/generated/sklearn.linear_model.Ridge.html) classes to do a **5-fold** cross validation using sklearn's KFold. For the sweep of the regularization parameter, we will look at a grid of values ranging from α=10^10 to α=10^−6. In Python, you can consider this range of values as follows: alpha = 10**numpy.linspace(6,-6,100) \n",
        "so that you can generate 100 uniform values between -6 to 6 as power series.\n",
        "\n",
        "Fit the 2 regression models with scaled data and report the best chosen **α** based on cross validation as well as the corresponding scoring metric. The cross validation should happen on your training data using **MSE** as the scoring metric.\n",
        "### Answer:"
      ]
    },
    {
      "cell_type": "code",
      "metadata": {
        "id": "qrNMDB7YlT3F"
      },
      "source": [
        "#Importing KFold\n",
        "from sklearn.model_selection import KFold\n",
        "import matplotlib.pyplot as plt\n",
        "\n",
        "#Setting the alpha (lambda) values and the 5-split KFold\n",
        "alpha_values = 10**np.linspace(10,-6,100)\n",
        "kfold_cv = KFold(n_splits = 5)\n",
        "MSE_cv_ridge = pd.DataFrame(columns = alpha_values)\n",
        "MSE_cv_lasso = MSE_cv_ridge.copy()"
      ],
      "execution_count": null,
      "outputs": []
    },
    {
      "cell_type": "code",
      "metadata": {
        "colab": {
          "base_uri": "https://localhost:8080/"
        },
        "id": "7dzBpbVauJui",
        "outputId": "585b2823-023e-4396-edf4-138762891e2f"
      },
      "source": [
        "#Looping through the 5-Fold Split for Cross Validation\n",
        "for train_index, test_index in kfold_cv.split(X_train_scaled):\n",
        "    X_train_cv, X_test_cv = X_train_scaled[train_index], X_train_scaled[test_index]\n",
        "    y_train_cv, y_test_cv = np.array(y_train)[train_index], np.array(y_train)[test_index]\n",
        "    MSE_values_ridge = []\n",
        "    MSE_values_lasso = []\n",
        "    \n",
        "    # Looping through all the Alpha (Lambda) values\n",
        "    for i in range(len(alpha_values)):\n",
        "        ridge_model = linear_model.Ridge(alpha = alpha_values[i])\n",
        "        ridge_model.fit(X_train_cv,y_train_cv)\n",
        "        ridge_pred = ridge_model.predict(X_test_cv)\n",
        "        MSE_values_ridge.append(mean_squared_error(y_test_cv,ridge_pred))\n",
        "        \n",
        "        lasso_model = linear_model.Lasso(alpha = alpha_values[i])\n",
        "        lasso_model.fit(X_train_cv,y_train_cv)\n",
        "        lasso_pred = lasso_model.predict(X_test_cv)\n",
        "        MSE_values_lasso.append(mean_squared_error(y_test_cv,lasso_pred))\n",
        "        \n",
        "    MSE_cv_ridge.loc[len(MSE_cv_ridge)] = MSE_values_ridge\n",
        "    MSE_cv_lasso.loc[len(MSE_cv_lasso)] = MSE_values_lasso\n",
        "\n",
        "# Calculating minimum Alpha (Lambda) Value\n",
        "ridge_min_alpha = MSE_cv_ridge.mean(axis =0).idxmin()\n",
        "ridge_min_mse = MSE_cv_ridge.mean(axis =0).min()\n",
        "\n",
        "lasso_min_alpha = MSE_cv_lasso.mean(axis=0).idxmin()\n",
        "lasso_min_mse = MSE_cv_lasso.mean(axis=0).min()\n",
        "\n",
        "print('\\033[1m' + 'Ridge Regression')\n",
        "print ('\\033[0m' + 'Best Alpha (Lambda) based on Cross Validation: ', ridge_min_alpha)\n",
        "print ('Corresponding scoring metric (MSE): ', ridge_min_mse)\n",
        "print()\n",
        "print('\\033[1m' + 'Lasso Regression')\n",
        "print ('\\033[0m' + 'Best Alpha (Lambda) based on Cross Validation: ', lasso_min_alpha)\n",
        "print ('Corresponding scoring metric (MSE): ', lasso_min_mse)"
      ],
      "execution_count": null,
      "outputs": [
        {
          "output_type": "stream",
          "name": "stdout",
          "text": [
            "\u001b[1mRidge Regression\n",
            "\u001b[0mBest Alpha (Lambda) based on Cross Validation:  4.229242874389499\n",
            "Corresponding scoring metric (MSE):  0.004118067661937138\n",
            "\n",
            "\u001b[1mLasso Regression\n",
            "\u001b[0mBest Alpha (Lambda) based on Cross Validation:  0.0011768119524349942\n",
            "Corresponding scoring metric (MSE):  0.004098720344979797\n"
          ]
        }
      ]
    },
    {
      "cell_type": "markdown",
      "metadata": {
        "id": "06ZATUiplcs_"
      },
      "source": [
        "### 3) (**5 pts**) \n",
        "Run ridge and lasso regression for all of the **α** specified above (on training data), and plot the coefficients learned for each of them - there should be one plot each for lasso and ridge, so a total of two plots; different features' weights of each model should be on the same plot with different colors (3pts). \n",
        "\n",
        "What do you qualitatively observe when the value of the regularization parameter changes (2pts)? \n",
        "### Answer:"
      ]
    },
    {
      "cell_type": "code",
      "metadata": {
        "id": "lkMzsi0sDfeb"
      },
      "source": [
        "coefficients_ridge = []\n",
        "coefficients_lasso = []\n",
        "\n",
        "for i in range(len(alpha_values)):\n",
        "    ridge_model = linear_model.Ridge(alpha = alpha_values[i])\n",
        "    ridge_model.fit(X_train_scaled,y_train)\n",
        "    coefficients_ridge.append(ridge_model.coef_)\n",
        "\n",
        "    lasso_model = linear_model.Lasso(alpha = alpha_values[i])\n",
        "    lasso_model.fit(X_train_scaled,y_train)\n",
        "    coefficients_lasso.append(lasso_model.coef_)\n",
        "        "
      ],
      "execution_count": null,
      "outputs": []
    },
    {
      "cell_type": "code",
      "metadata": {
        "id": "u5sz-bLxLVMZ"
      },
      "source": [
        "feature_names = np.array(X_train.columns)"
      ],
      "execution_count": null,
      "outputs": []
    },
    {
      "cell_type": "code",
      "metadata": {
        "colab": {
          "base_uri": "https://localhost:8080/",
          "height": 408
        },
        "id": "smi1ABx96xn6",
        "outputId": "0d74c533-125f-46b2-d773-16a4e8667b64"
      },
      "source": [
        "#Plotting coefficients for Ridge Regression\n",
        "plt.figure(figsize=(15,6))\n",
        "plt.gca().set_xscale('log')\n",
        "plt.plot(alpha_values,coefficients_ridge)\n",
        "plt.legend(feature_names)\n",
        "plt.xlabel('Alpha (Lambda)')\n",
        "plt.ylabel('Ridge Regression Coefficients')\n",
        "plt.title('Ridge Regression Coefficients vs Alpha (Lambda) Values')\n",
        "plt.show()"
      ],
      "execution_count": null,
      "outputs": [
        {
          "output_type": "display_data",
          "data": {
            "image/png": "[encoded data removed]",
            "text/plain": [
              "<Figure size 1080x432 with 1 Axes>"
            ]
          },
          "metadata": {
            "needs_background": "light"
          }
        }
      ]
    },
    {
      "cell_type": "code",
      "metadata": {
        "colab": {
          "base_uri": "https://localhost:8080/",
          "height": 408
        },
        "id": "uuS7lTPMAzck",
        "outputId": "8e25eef4-2ce4-4371-f8ba-7800ce26f639"
      },
      "source": [
        "#Plotting coefficients for Lasso Regression\n",
        "plt.figure(figsize=(15,6))\n",
        "plt.gca().set_xscale('log')\n",
        "plt.plot(alpha_values,coefficients_lasso)\n",
        "plt.legend(feature_names)\n",
        "plt.xlabel('Alpha (Lambda)')\n",
        "plt.ylabel('Lasso Regression Coefficients')\n",
        "plt.title('Lasso Regression Coefficients vs Alpha (Lambda) Values')\n",
        "plt.show()"
      ],
      "execution_count": null,
      "outputs": [
        {
          "output_type": "display_data",
          "data": {
            "image/png": "[encoded data removed]",
            "text/plain": [
              "<Figure size 1080x432 with 1 Axes>"
            ]
          },
          "metadata": {
            "needs_background": "light"
          }
        }
      ]
    },
    {
      "cell_type": "markdown",
      "metadata": {
        "id": "J91xRP8tB0hE"
      },
      "source": [
        "As the value of the regularization parameter (Alpha or Lambda) increases, we notice that the coefficients for Ridge Regression begin tending towards 0 but they are never absolutely 0. However, we can consider them as effectively 0. We also notice that the coefficients for some features slightly increase in the middle as alpha increases. \n",
        "\n",
        "The coefficients for Lasso Regression, on the other hand, reach the value of absolute 0, allowing for feature reduction in the model."
      ]
    },
    {
      "cell_type": "markdown",
      "metadata": {
        "id": "Mfx-9g_rlglc"
      },
      "source": [
        "### 4) (**3 pts**) \n",
        "Take the exponential of Y_train as the target, and fit the 2 regression models again. Report the best chosen **α** based on cross validation as well as the corresponding scoring metric. Compare the results of using the original target with the results of using the exponential of the target. What do you observe? \n",
        "### Answer:"
      ]
    },
    {
      "cell_type": "code",
      "metadata": {
        "colab": {
          "base_uri": "https://localhost:8080/"
        },
        "id": "JQrTspM3BkgY",
        "outputId": "52a34400-f0a2-4583-d3d4-a606fff1dc1a"
      },
      "source": [
        "#Looping through the 5-Fold Split for Cross Validation\n",
        "MSE_exp_cv_ridge = pd.DataFrame(columns = alpha_values)\n",
        "MSE_exp_cv_lasso = MSE_exp_cv_ridge.copy()\n",
        "\n",
        "#Taking the exponential of y_train and y_test\n",
        "y_train_exp = np.exp(y_train)\n",
        "y_test_exp = np.exp(y_test)\n",
        "\n",
        "for train_index, test_index in kfold_cv.split(X_train_scaled):\n",
        "    X_train_exp_cv, X_test_exp_cv = X_train_scaled[train_index], X_train_scaled[test_index]\n",
        "    y_train_exp_cv, y_test_exp_cv = np.array(y_train_exp)[train_index], np.array(y_train_exp)[test_index]\n",
        "    MSE_exp_values_ridge = []\n",
        "    MSE_exp_values_lasso = []\n",
        "    \n",
        "    # Looping through all the Alpha (Lambda) values\n",
        "    for i in range(len(alpha_values)):\n",
        "        ridge_exp_model = linear_model.Ridge(alpha = alpha_values[i])\n",
        "        ridge_exp_model.fit(X_train_exp_cv,y_train_exp_cv)\n",
        "        ridge_exp_pred = ridge_exp_model.predict(X_test_exp_cv)\n",
        "        MSE_exp_values_ridge.append(mean_squared_error(y_test_exp_cv,ridge_exp_pred))\n",
        "\n",
        "        lasso_exp_model = linear_model.Lasso(alpha = alpha_values[i])\n",
        "        lasso_exp_model.fit(X_train_exp_cv,y_train_exp_cv)\n",
        "        lasso_exp_pred = lasso_exp_model.predict(X_test_exp_cv)\n",
        "        MSE_exp_values_lasso.append(mean_squared_error(y_test_exp_cv,lasso_exp_pred))\n",
        "\n",
        "    MSE_exp_cv_ridge.loc[len(MSE_exp_cv_ridge)] = MSE_exp_values_ridge\n",
        "    MSE_exp_cv_lasso.loc[len(MSE_exp_cv_lasso)] = MSE_exp_values_lasso\n",
        "\n",
        "# Calculating minimum Alpha (Lambda) Value\n",
        "ridge_exp_min_alpha = MSE_exp_cv_ridge.mean(axis =0).idxmin()\n",
        "ridge_exp_min_mse = MSE_exp_cv_ridge.mean(axis =0).min()\n",
        "\n",
        "lasso_exp_min_alpha = MSE_exp_cv_lasso.mean(axis =0).idxmin()\n",
        "lasso_exp_min_mse = MSE_exp_cv_lasso.mean(axis =0).min()\n",
        "\n",
        "print('\\033[1m' + 'Exponential y_train\\n\\nRidge Regression')\n",
        "print ('\\033[0m' + 'Best Alpha (Lambda) based on Cross Validation: ', ridge_exp_min_alpha)\n",
        "print ('Corresponding scoring metric (MSE): ', ridge_exp_min_mse)\n",
        "\n",
        "print()\n",
        "\n",
        "print('\\033[1m' + 'Lasso Regression')\n",
        "print ('\\033[0m' + 'Best Alpha (Lambda) based on Cross Validation: ', lasso_exp_min_alpha)\n",
        "print ('Corresponding scoring metric (MSE): ', lasso_exp_min_mse)"
      ],
      "execution_count": null,
      "outputs": [
        {
          "output_type": "stream",
          "name": "stdout",
          "text": [
            "\u001b[1mExponential y_train\n",
            "\n",
            "Ridge Regression\n",
            "\u001b[0mBest Alpha (Lambda) based on Cross Validation:  6.135907273413163\n",
            "Corresponding scoring metric (MSE):  0.014815008775351052\n",
            "\n",
            "\u001b[1mLasso Regression\n",
            "\u001b[0mBest Alpha (Lambda) based on Cross Validation:  0.0017073526474706887\n",
            "Corresponding scoring metric (MSE):  0.014766582720990703\n"
          ]
        }
      ]
    },
    {
      "cell_type": "markdown",
      "metadata": {
        "id": "VKV7Wy6dH8x3"
      },
      "source": [
        "We observe that the Alpha (Lambda) values increase for each of the two regression models, implying that the coefficients are penalized more, i.e. their shrinkage increases. Moreover, we also observe that the minimum MSE value increases as we apply the exponential, which implies that the non-linearity increases after applying the exponential. This shows that the original dataset is not distributed exponentially. "
      ]
    },
    {
      "cell_type": "markdown",
      "metadata": {
        "id": "i8PGpyetlnE3"
      },
      "source": [
        "### 5) (**5 pts**) \n",
        "Similarly, use [sklearn.linear_model.ElasticNet](https://scikit-learn.org/stable/modules/generated/sklearn.linear_model.ElasticNet.html) to do linear regression with different **α** values, and plot the coefficients learned for each of them (2pts). Observe the plot, then explain the pros and cons of ridge, lasso and Elastic Net models (3pts).\n",
        "### Answer:"
      ]
    },
    {
      "cell_type": "code",
      "metadata": {
        "colab": {
          "base_uri": "https://localhost:8080/",
          "height": 458
        },
        "id": "Oa2cBwl7KKfq",
        "outputId": "0de067bc-9f38-4cfe-cf0a-3cd046661962"
      },
      "source": [
        "MSE_cv_elastic_net = pd.DataFrame(columns = alpha_values)\n",
        "coefficients_elastic_net = []\n",
        "\n",
        "#Looping through the 5-Fold Split for Cross Validation\n",
        "for train_index, test_index in kfold_cv.split(X_train_scaled):\n",
        "    X_train_cv, X_test_cv = X_train_scaled[train_index], X_train_scaled[test_index]\n",
        "    y_train_cv, y_test_cv = np.array(y_train)[train_index], np.array(y_train)[test_index]\n",
        "    MSE_values_elastic_net = []\n",
        "    \n",
        "    # Looping through all the Alpha (Lambda) values\n",
        "    for i in range(len(alpha_values)):\n",
        "        elastic_net_model = linear_model.ElasticNet(alpha = alpha_values[i])\n",
        "        elastic_net_model.fit(X_train_cv,y_train_cv)\n",
        "        elastic_net_pred = elastic_net_model.predict(X_test_cv)\n",
        "        MSE_values_elastic_net.append(mean_squared_error(y_test_cv,elastic_net_pred))\n",
        "\n",
        "    MSE_cv_elastic_net.loc[len(MSE_cv_elastic_net)] = MSE_values_elastic_net\n",
        "\n",
        "# Calculating minimum Alpha (Lambda) Value\n",
        "elastic_net_min_alpha = MSE_cv_elastic_net.mean(axis =0).idxmin()\n",
        "elastic_net_min_mse = MSE_cv_elastic_net.mean(axis =0).min()\n",
        "\n",
        "print('\\033[1m' + 'Elastic Net')\n",
        "print ('\\033[0m' + 'Best Alpha (Lambda) based on Cross Validation: ', elastic_net_min_alpha)\n",
        "print ('Corresponding scoring metric (MSE): ', elastic_net_min_mse)\n",
        "\n",
        "for i in range(len(alpha_values)):\n",
        "    elastic_net_model = linear_model.ElasticNet(alpha = alpha_values[i])\n",
        "    elastic_net_model.fit(X_train_scaled,y_train)\n",
        "    coefficients_elastic_net.append(elastic_net_model.coef_)\n",
        "\n",
        "#Plotting coefficients for Elastic Net\n",
        "plt.figure(figsize=(15,6))\n",
        "plt.gca().set_xscale('log')\n",
        "plt.plot(alpha_values,coefficients_elastic_net)\n",
        "plt.legend(feature_names)\n",
        "plt.xlabel('Alpha (Lambda)')\n",
        "plt.ylabel('Elastic Net Coefficients')\n",
        "plt.title('Elastic Net Coefficients vs Alpha (Lambda) Values')\n",
        "plt.show()"
      ],
      "execution_count": null,
      "outputs": [
        {
          "output_type": "stream",
          "name": "stdout",
          "text": [
            "\u001b[1mElastic Net\n",
            "\u001b[0mBest Alpha (Lambda) based on Cross Validation:  0.002477076355991704\n",
            "Corresponding scoring metric (MSE):  0.004098968587261618\n"
          ]
        },
        {
          "output_type": "display_data",
          "data": {
            "image/png": "[encoded data removed]",
            "text/plain": [
              "<Figure size 1080x432 with 1 Axes>"
            ]
          },
          "metadata": {
            "needs_background": "light"
          }
        }
      ]
    },
    {
      "cell_type": "markdown",
      "metadata": {
        "id": "41ULR2GDT7ez"
      },
      "source": [
        "The pros and cons of Ridge, Lasso and Elastic Net models can be explained as follows. \n",
        "\n",
        "*   **Ridge Regression:** Like the others, Ridge Regression solves the problem of overfitting and produces a low bias and low variance model, reducing the complexity. However, the coefficients only tend to 0 and never reaches the absolute value of 0. This proves to be a limitation when the objective is feature reduction.\n",
        "*   **Lasso Regression:** Lasso Regression also solves the problem of overfitting and reduces the complexity of the model. However, the plots for CGPA, GRE_Score and TOEFL_Score (which have very high multicollinearity) are falling to 0 randomly one by one. This is a limitation compared to Ridge where the three features tended towards one another and slowly tended to 0 together. \n",
        "*   **Elastic Net:** It seems like Elastic Net combines the benefits of both Ridge and Lasso wherein it does not easily eliminate high collinearity coefficients and also reduces features by reducing the coefficients to absolute 0.  \n",
        "\n",
        "\n",
        "\n"
      ]
    },
    {
      "cell_type": "markdown",
      "metadata": {
        "id": "mMOGIdSrlq4o"
      },
      "source": [
        "### 6) (**5 pts**) \n",
        "Run the following three regression models with **MSE** loss on the training data: \n",
        "\n",
        "a. linear regression without regularization (1pts)\n",
        "\n",
        "b. linear regression with ridge regularization (2pts)\n",
        "\n",
        "c. linear regression with lasso regularization (2pts)\n",
        "\n",
        "For part (b) and (c), use only the best regularization parameters. Report the MSE and R<sup>2</sup> on the test data for each model.\n",
        "### Answer:"
      ]
    },
    {
      "cell_type": "code",
      "metadata": {
        "colab": {
          "base_uri": "https://localhost:8080/"
        },
        "id": "TrrEhn47JAcX",
        "outputId": "5c136850-6caa-4f5a-8db4-41421c4675ca"
      },
      "source": [
        "from sklearn.metrics import r2_score\n",
        "\n",
        "#Linear Regression without Regularization\n",
        "linear_reg_model = linear_model.LinearRegression()\n",
        "linear_reg_model.fit(X_train_scaled,y_train)\n",
        "linear_reg_pred = linear_reg_model.predict(X_test_scaled)\n",
        "linear_reg_MSE = mean_squared_error(y_test,linear_reg_pred)\n",
        "linear_reg_r2_score = r2_score(y_test,linear_reg_pred)\n",
        "\n",
        "#Linear Regression with Ridge Regularization\n",
        "linear_reg_ridge_model = linear_model.Ridge(alpha = ridge_min_alpha)\n",
        "linear_reg_ridge_model.fit(X_train_scaled,y_train)\n",
        "linear_reg_ridge_pred = linear_reg_ridge_model.predict(X_test_scaled)\n",
        "linear_reg_ridge_MSE = mean_squared_error(y_test,linear_reg_ridge_pred)\n",
        "linear_reg_ridge_r2_score = r2_score(y_test,linear_reg_ridge_pred)\n",
        "\n",
        "#Linear Regression with Lasso Regularization\n",
        "linear_reg_lasso_model = linear_model.Lasso(alpha = lasso_min_alpha)\n",
        "linear_reg_lasso_model.fit(X_train_scaled,y_train)\n",
        "linear_reg_lasso_pred = linear_reg_lasso_model.predict(X_test_scaled)\n",
        "linear_reg_lasso_MSE = mean_squared_error(y_test,linear_reg_lasso_pred)\n",
        "linear_reg_lasso_r2_score = r2_score(y_test,linear_reg_lasso_pred)\n",
        "\n",
        "#Printing MSE and R2 scores for the 3 models\n",
        "print('\\033[1m' + 'Linear Regression without Regularization')\n",
        "print('\\033[0m' + 'MSE: ', linear_reg_MSE)\n",
        "print('R\\u00b2:  ', linear_reg_r2_score)\n",
        "print()\n",
        "print('\\033[1m' + 'Linear Regression with Ridge Regularization')\n",
        "print('\\033[0m' + 'MSE: ', linear_reg_ridge_MSE)\n",
        "print('R\\u00b2:  ', linear_reg_ridge_r2_score)\n",
        "print()\n",
        "print('\\033[1m' + 'Linear Regression with Lasso Regularization')\n",
        "print('\\033[0m' + 'MSE: ', linear_reg_lasso_MSE)\n",
        "print('R\\u00b2:  ', linear_reg_lasso_r2_score)"
      ],
      "execution_count": null,
      "outputs": [
        {
          "output_type": "stream",
          "name": "stdout",
          "text": [
            "\u001b[1mLinear Regression without Regularization\n",
            "\u001b[0mMSE:  0.005200215496311305\n",
            "R²:   0.6910288907914796\n",
            "\n",
            "\u001b[1mLinear Regression with Ridge Regularization\n",
            "\u001b[0mMSE:  0.005150074618331441\n",
            "R²:   0.6940080140022613\n",
            "\n",
            "\u001b[1mLinear Regression with Lasso Regularization\n",
            "\u001b[0mMSE:  0.005166967497632441\n",
            "R²:   0.6930043225861924\n"
          ]
        }
      ]
    },
    {
      "cell_type": "markdown",
      "metadata": {
        "id": "cdYClQ0qlvRB"
      },
      "source": [
        "7)(**5 pts**) Train the 3 models and report the metrics with the original data without scaling (3pts). \n",
        "\n",
        "Why do we need to scale the data before regularization (2pts)? "
      ]
    },
    {
      "cell_type": "code",
      "metadata": {
        "id": "wH8vBCC0OEUs"
      },
      "source": [
        "MSE_cv_ridge_unscaled = pd.DataFrame(columns = alpha_values)\n",
        "MSE_cv_lasso_unscaled = MSE_cv_ridge_unscaled.copy()\n",
        "\n",
        "#Looping through the 5-Fold Split for Cross Validation\n",
        "for train_index, test_index in kfold_cv.split(np.array(X_train)):\n",
        "    X_train_cv_unscaled, X_test_cv_unscaled = np.array(X_train)[train_index], np.array(X_train)[test_index]\n",
        "    y_train_cv_unscaled, y_test_cv_unscaled = np.array(y_train)[train_index], np.array(y_train)[test_index]\n",
        "    MSE_values_ridge_unscaled = []\n",
        "    MSE_values_lasso_unscaled = []\n",
        "\n",
        "    # Looping through all the Alpha (Lambda) values\n",
        "    for i in range(len(alpha_values)):\n",
        "        ridge_model_unscaled = linear_model.Ridge(alpha = alpha_values[i])\n",
        "        ridge_model_unscaled.fit(X_train_cv_unscaled,y_train_cv_unscaled)\n",
        "        ridge_pred_unscaled = ridge_model_unscaled.predict(X_test_cv_unscaled)\n",
        "        MSE_values_ridge_unscaled.append(mean_squared_error(y_test_cv_unscaled,ridge_pred_unscaled))\n",
        "        \n",
        "        lasso_model_unscaled = linear_model.Lasso(alpha = alpha_values[i])\n",
        "        lasso_model_unscaled.fit(X_train_cv_unscaled,y_train_cv_unscaled)\n",
        "        lasso_pred_unscaled = lasso_model_unscaled.predict(X_test_cv_unscaled)\n",
        "        MSE_values_lasso_unscaled.append(mean_squared_error(y_test_cv_unscaled,lasso_pred_unscaled))\n",
        "\n",
        "    MSE_cv_ridge_unscaled.loc[len(MSE_cv_ridge_unscaled)] = MSE_values_ridge_unscaled\n",
        "    MSE_cv_lasso_unscaled.loc[len(MSE_cv_lasso_unscaled)] = MSE_values_lasso_unscaled\n",
        "\n",
        "# Calculating minimum Alpha (Lambda) Value\n",
        "ridge_min_alpha_unscaled = MSE_cv_ridge_unscaled.mean(axis =0).idxmin()\n",
        "lasso_min_alpha_unscaled = MSE_cv_lasso_unscaled.mean(axis =0).idxmin()"
      ],
      "execution_count": null,
      "outputs": []
    },
    {
      "cell_type": "code",
      "metadata": {
        "colab": {
          "base_uri": "https://localhost:8080/"
        },
        "id": "lpcz1cdFg3QT",
        "outputId": "bd12f28d-24d2-422c-f4ee-03b4d5b94186"
      },
      "source": [
        "#Linear Regression without Regularization\n",
        "linear_reg_model_unscaled = linear_model.LinearRegression()\n",
        "linear_reg_model_unscaled.fit(X_train,y_train)\n",
        "linear_reg_pred_unscaled = linear_reg_model_unscaled.predict(X_test)\n",
        "linear_reg_MSE_unscaled = mean_squared_error(y_test,linear_reg_pred_unscaled)\n",
        "linear_reg_r2_score_unscaled = r2_score(y_test,linear_reg_pred_unscaled)\n",
        "\n",
        "#Linear Regression with Ridge Regularization\n",
        "linear_reg_ridge_model_unscaled = linear_model.Ridge(alpha = ridge_min_alpha_unscaled)\n",
        "linear_reg_ridge_model_unscaled.fit(X_train,y_train)\n",
        "linear_reg_ridge_pred_unscaled = linear_reg_ridge_model_unscaled.predict(X_test)\n",
        "linear_reg_ridge_MSE_unscaled = mean_squared_error(y_test,linear_reg_ridge_pred_unscaled)\n",
        "linear_reg_ridge_r2_score_unscaled = r2_score(y_test,linear_reg_ridge_pred_unscaled)\n",
        "\n",
        "#Linear Regression with Lasso Regularization\n",
        "linear_reg_lasso_model_unscaled = linear_model.Lasso(alpha = lasso_min_alpha_unscaled)\n",
        "linear_reg_lasso_model_unscaled.fit(X_train,y_train)\n",
        "linear_reg_lasso_pred_unscaled = linear_reg_lasso_model_unscaled.predict(X_test)\n",
        "linear_reg_lasso_MSE_unscaled = mean_squared_error(y_test,linear_reg_lasso_pred_unscaled)\n",
        "linear_reg_lasso_r2_score_unscaled = r2_score(y_test,linear_reg_lasso_pred_unscaled)\n",
        "\n",
        "#Printing MSE and R2 scores for the 3 models\n",
        "print('\\033[1m' + 'Linear Regression without Regularization')\n",
        "print('\\033[0m' + 'MSE: ', linear_reg_MSE_unscaled)\n",
        "print('R\\u00b2:  ', linear_reg_r2_score_unscaled)\n",
        "print()\n",
        "print('\\033[1m' + 'Linear Regression with Ridge Regularization')\n",
        "print('\\033[0m' + 'MSE: ', linear_reg_ridge_MSE_unscaled)\n",
        "print('R\\u00b2:  ', linear_reg_ridge_r2_score_unscaled)\n",
        "print()\n",
        "print('\\033[1m' + 'Linear Regression with Lasso Regularization')\n",
        "print('\\033[0m' + 'MSE: ', linear_reg_lasso_MSE_unscaled)\n",
        "print('R\\u00b2:  ', linear_reg_lasso_r2_score_unscaled)"
      ],
      "execution_count": null,
      "outputs": [
        {
          "output_type": "stream",
          "name": "stdout",
          "text": [
            "\u001b[1mLinear Regression without Regularization\n",
            "\u001b[0mMSE:  0.004526319242200032\n",
            "R²:   0.731068476318641\n",
            "\n",
            "\u001b[1mLinear Regression with Ridge Regularization\n",
            "\u001b[0mMSE:  0.004522607128832574\n",
            "R²:   0.7312890317524428\n",
            "\n",
            "\u001b[1mLinear Regression with Lasso Regularization\n",
            "\u001b[0mMSE:  0.004551602842641672\n",
            "R²:   0.7295662497130744\n"
          ]
        }
      ]
    },
    {
      "cell_type": "markdown",
      "metadata": {
        "id": "94bsQAdqi9D8"
      },
      "source": [
        "We need to scale the data before regularization to ensure that the Alpha (Lambda) regularizes the features in a similar manner. If we do not scale the features, different features are penalized differently according to their unscaled values. For instance, higher ranged values are penalized more in the cost function compared to low ranged values. \n",
        "\n",
        "In the above problem, however, the model seems to perform better without scaling. This can be explained by the fact that y is more dependent on the features with higher magnitude. This can also be seen from the coefficient plots where the two highest coefficients are for CGPA and GRE_Score which have higher ranges compared to most features."
      ]
    }
  ]
}